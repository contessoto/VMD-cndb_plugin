{
 "cells": [
  {
   "cell_type": "markdown",
   "metadata": {},
   "source": [
    "The cndb file is an H5 file format, to handle it we use two main libraries:\n",
    "\n",
    "h5py <br>\n",
    "numpy"
   ]
  },
  {
   "cell_type": "code",
   "execution_count": 1,
   "metadata": {},
   "outputs": [],
   "source": [
    "import h5py\n",
    "import numpy as np"
   ]
  },
  {
   "cell_type": "markdown",
   "metadata": {},
   "source": [
    "\"cndbf\" variable is a dictonary, where we have labels -> values. In this example we have Header label and chains labels:\n",
    "\n",
    "\"Header\" -> All informations present in Header of NDB files  <br>\n",
    "\n",
    "chains labels:<br>\n",
    "If the file contains multiple chromosomes there is a single label for deal of each of then separately <br> \n",
    "\n",
    "Below I will show each label inside the cndb file"
   ]
  },
  {
   "cell_type": "markdown",
   "metadata": {},
   "source": [
    "![CNDB file](cndb.png)"
   ]
  },
  {
   "cell_type": "markdown",
   "metadata": {},
   "source": [
    "Open the cndb file using:"
   ]
  },
  {
   "cell_type": "code",
   "execution_count": 2,
   "metadata": {},
   "outputs": [],
   "source": [
    "filename = 'multichain_C1C2.cndb'\n",
    "mode = 'r'\n",
    "cndbf = h5py.File(filename, mode)"
   ]
  },
  {
   "cell_type": "markdown",
   "metadata": {},
   "source": [
    "In this example file we have the Header label and two chains, called here as C1 and C2"
   ]
  },
  {
   "cell_type": "code",
   "execution_count": 4,
   "metadata": {},
   "outputs": [
    {
     "data": {
      "text/plain": [
       "<KeysViewHDF5 ['C1', 'C2', 'Header']>"
      ]
     },
     "execution_count": 4,
     "metadata": {},
     "output_type": "execute_result"
    }
   ],
   "source": [
    "#The labels in the root directory\n",
    "cndbf.keys()"
   ]
  },
  {
   "cell_type": "markdown",
   "metadata": {},
   "source": [
    "The Header contains the metadata informations <br>\n",
    "all infos is saved in separate atributes. To go over all then we can use this commands:"
   ]
  },
  {
   "cell_type": "code",
   "execution_count": 6,
   "metadata": {},
   "outputs": [
    {
     "data": {
      "text/plain": [
       "<KeysViewHDF5 ['author', 'chains', 'cycle', 'date', 'expdta', 'info', 'title', 'version']>"
      ]
     },
     "execution_count": 6,
     "metadata": {},
     "output_type": "execute_result"
    }
   ],
   "source": [
    "cndbf['Header'].attrs.keys()"
   ]
  },
  {
   "cell_type": "code",
   "execution_count": 7,
   "metadata": {},
   "outputs": [
    {
     "name": "stdout",
     "output_type": "stream",
     "text": [
      "author => Antonio B Oliveira Junior\n",
      "chains => C1,C2\n",
      "cycle => INTERPHASE G2\n",
      "date => 2022-11-01 14:15:58.071576\n",
      "expdta => Simulation - MEGABASE - MiChroM\n",
      "info => First cndb file created\n",
      "title => The Nucleome Data Bank: Web-based Resources Simulate and Analyze the Three-Dimensional Genome\n",
      "version => 1.0.0\n"
     ]
    }
   ],
   "source": [
    "#loop over all metadata\n",
    "for inf in cndbf['Header'].attrs.keys():\n",
    "    print('{} => {}'.format(inf, cndbf['Header'].attrs[inf]))"
   ]
  },
  {
   "cell_type": "markdown",
   "metadata": {},
   "source": [
    "Lets access now the C1 label and look all keys we can access"
   ]
  },
  {
   "cell_type": "code",
   "execution_count": 8,
   "metadata": {},
   "outputs": [],
   "source": [
    "#use variable C1 here jst for not rewriting \"cndbf['C1']\" all the time\n",
    "C1 = cndbf['C1']"
   ]
  },
  {
   "cell_type": "code",
   "execution_count": 9,
   "metadata": {},
   "outputs": [
    {
     "data": {
      "text/plain": [
       "<KeysViewHDF5 ['genomic_position', 'loops', 'spatial_position', 'time', 'types']>"
      ]
     },
     "execution_count": 9,
     "metadata": {},
     "output_type": "execute_result"
    }
   ],
   "source": [
    "C1.keys() #remember this command is the same as cndbf['C1'].keys()"
   ]
  },
  {
   "cell_type": "markdown",
   "metadata": {},
   "source": [
    "Inside the C1 label (a chain label) we always will have these keys: <br>\n",
    "\n",
    "'types' -> the list of sequence of types (**Now in string format**) <br>\n",
    "'loops' -> list of index position (i,j) of each loop, if exist <br>\n",
    "'time' -> list of time for each frame present in spatial_position <br>\n",
    "'genomic_position' -> list os genomic position (star and end positions) in bp <br>\n",
    "'spatial_position' -> directory with all frames (or traces) contains the xyz position (this is saved sequentially), so '1'; '2'; '3' and so on...<br>\n",
    "\n",
    "Let take a look how extract each information:\n"
   ]
  },
  {
   "cell_type": "markdown",
   "metadata": {},
   "source": [
    "Types"
   ]
  },
  {
   "cell_type": "code",
   "execution_count": 11,
   "metadata": {},
   "outputs": [
    {
     "name": "stdout",
     "output_type": "stream",
     "text": [
      "['NA', 'NA', 'NA', 'NA', 'NA', 'NA', 'NA', 'NA', 'NA', 'NA']\n"
     ]
    }
   ],
   "source": [
    "types = list(C1['types']) #get from C1 and transform in a list os string\n",
    "print(types[:10]) #show the first 10 elements"
   ]
  },
  {
   "cell_type": "markdown",
   "metadata": {},
   "source": [
    "Loops\n"
   ]
  },
  {
   "cell_type": "code",
   "execution_count": 14,
   "metadata": {},
   "outputs": [
    {
     "name": "stdout",
     "output_type": "stream",
     "text": [
      "[array([931., 933.]), array([4089., 4090.]), array([4065., 4067.]), array([624., 626.]), array([478., 480.]), array([244., 246.]), array([4105., 4106.]), array([3128., 3129.]), array([3652., 3656.]), array([1075., 1078.])]\n"
     ]
    }
   ],
   "source": [
    "loops = list(C1['loops']) #get from C1 and transform in a list of pairs of index\n",
    "print(loops[:10]) #show the first 10 elements"
   ]
  },
  {
   "cell_type": "markdown",
   "metadata": {},
   "source": [
    "Genomic Position"
   ]
  },
  {
   "cell_type": "code",
   "execution_count": 20,
   "metadata": {},
   "outputs": [
    {
     "name": "stdout",
     "output_type": "stream",
     "text": [
      "[array([    1, 50000]), array([ 50001, 100000]), array([100001, 150000]), array([150001, 200000]), array([200001, 250000]), array([250001, 300000]), array([300001, 350000]), array([350001, 400000]), array([400001, 450000]), array([450001, 500000])]\n"
     ]
    }
   ],
   "source": [
    "gen_pos = list(C1['genomic_position']) #get from C1 and transform in a list of star and end position in genomic bp\n",
    "print(gen_pos[:10]) #show the first 10 elements"
   ]
  },
  {
   "cell_type": "markdown",
   "metadata": {},
   "source": [
    "Time\n",
    "\n",
    "*obs: the time here is not necessary sequential, this label is important to link the sequential traces (from spatial_position) with the real time (or computional time saved)* <br>\n",
    "\n",
    "in this case, I saved a frame for each 100 timesteps (in simulation) for example"
   ]
  },
  {
   "cell_type": "code",
   "execution_count": 21,
   "metadata": {},
   "outputs": [
    {
     "name": "stdout",
     "output_type": "stream",
     "text": [
      "['1', '101', '201', '301', '401', '501', '601', '701', '801', '901']\n"
     ]
    }
   ],
   "source": [
    "time = list(C1['time']) #get from C1 and transform in a list os str\n",
    "print(time[:10]) #show the first 10 elements"
   ]
  },
  {
   "cell_type": "markdown",
   "metadata": {},
   "source": [
    "Spatial Position"
   ]
  },
  {
   "cell_type": "code",
   "execution_count": 22,
   "metadata": {},
   "outputs": [],
   "source": [
    "#these are the 3 ways to handle with directories in HDF5 files, again, I using 'pos'\n",
    "#just for rewriting all the path all the time.\n",
    "pos = cndbf['C1/spatial_position'] #or\n",
    "#pos = cndbf['C1'][spatial_position'] or\n",
    "#pos = C1.[spatial_position']\n"
   ]
  },
  {
   "cell_type": "code",
   "execution_count": 25,
   "metadata": {},
   "outputs": [
    {
     "name": "stdout",
     "output_type": "stream",
     "text": [
      "1000\n"
     ]
    }
   ],
   "source": [
    "#look for the number of traces:\n",
    "print(len(pos))"
   ]
  },
  {
   "cell_type": "markdown",
   "metadata": {},
   "source": [
    "To access the trajectory (x,y,z) position save it a numpy array:"
   ]
  },
  {
   "cell_type": "code",
   "execution_count": 26,
   "metadata": {},
   "outputs": [
    {
     "name": "stdout",
     "output_type": "stream",
     "text": [
      "[[-11.285787   -16.510454    -9.630638  ]\n",
      " [-11.101784   -16.334913    -8.64791   ]\n",
      " [-10.572278   -15.668607    -9.003843  ]\n",
      " ...\n",
      " [-12.695717    -4.2778034    0.10639028]\n",
      " [-12.547007    -5.2102995    0.1069468 ]\n",
      " [-11.645896    -5.278418    -0.16999087]]\n"
     ]
    }
   ],
   "source": [
    "xyz_1 = np.array(pos[\"1\"])\n",
    "print(xyz_1)"
   ]
  },
  {
   "cell_type": "markdown",
   "metadata": {},
   "source": [
    "to extract all  frames just loop over all labels:"
   ]
  },
  {
   "cell_type": "code",
   "execution_count": 31,
   "metadata": {},
   "outputs": [
    {
     "name": "stdout",
     "output_type": "stream",
     "text": [
      "In this file we have 1000 frames of 4989 beads each\n"
     ]
    }
   ],
   "source": [
    "xyz_all = []\n",
    "Ntraces = len(pos)\n",
    "for i in range(1,Ntraces+1): \n",
    "    xyz_all.append(pos[str(i)])\n",
    "\n",
    "print(\"In this file we have {:} frames of {:} beads each\".format(len(xyz_all), len(xyz_all[0])))"
   ]
  },
  {
   "cell_type": "markdown",
   "metadata": {},
   "source": [
    "All the exaple above can be made using the chain 2 just change the directory for C2:"
   ]
  },
  {
   "cell_type": "code",
   "execution_count": 32,
   "metadata": {},
   "outputs": [
    {
     "name": "stdout",
     "output_type": "stream",
     "text": [
      "<KeysViewHDF5 ['genomic_position', 'loops', 'spatial_position', 'time', 'types']>\n"
     ]
    }
   ],
   "source": [
    "C2 = cndbf['C2']\n",
    "print(C2.keys())"
   ]
  }
 ],
 "metadata": {
  "kernelspec": {
   "display_name": "Python 3.8.8 ('base')",
   "language": "python",
   "name": "python3"
  },
  "language_info": {
   "codemirror_mode": {
    "name": "ipython",
    "version": 3
   },
   "file_extension": ".py",
   "mimetype": "text/x-python",
   "name": "python",
   "nbconvert_exporter": "python",
   "pygments_lexer": "ipython3",
   "version": "3.8.8"
  },
  "orig_nbformat": 4,
  "vscode": {
   "interpreter": {
    "hash": "f7215b3a7a598eb87d796f8da2e6ae65e9b6237dbe893c88938c519b77b4f916"
   }
  }
 },
 "nbformat": 4,
 "nbformat_minor": 2
}
